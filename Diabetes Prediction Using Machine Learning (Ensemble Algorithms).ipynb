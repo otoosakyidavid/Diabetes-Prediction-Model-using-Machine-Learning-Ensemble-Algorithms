{
 "cells": [
  {
   "cell_type": "code",
   "execution_count": 1,
   "metadata": {},
   "outputs": [],
   "source": [
    "import sklearn\n",
    "import pandas as pd\n",
    "import numpy as np\n",
    "import matplotlib.pyplot as plt\n",
    "import seaborn as sns\n",
    "\n",
    "%matplotlib inline"
   ]
  },
  {
   "cell_type": "code",
   "execution_count": 2,
   "metadata": {},
   "outputs": [
    {
     "data": {
      "text/html": [
       "<div>\n",
       "<style scoped>\n",
       "    .dataframe tbody tr th:only-of-type {\n",
       "        vertical-align: middle;\n",
       "    }\n",
       "\n",
       "    .dataframe tbody tr th {\n",
       "        vertical-align: top;\n",
       "    }\n",
       "\n",
       "    .dataframe thead th {\n",
       "        text-align: right;\n",
       "    }\n",
       "</style>\n",
       "<table border=\"1\" class=\"dataframe\">\n",
       "  <thead>\n",
       "    <tr style=\"text-align: right;\">\n",
       "      <th></th>\n",
       "      <th>Pregnancies</th>\n",
       "      <th>Glucose</th>\n",
       "      <th>BloodPressure</th>\n",
       "      <th>SkinThickness</th>\n",
       "      <th>Insulin</th>\n",
       "      <th>BMI</th>\n",
       "      <th>DiabetesPedigreeFunction</th>\n",
       "      <th>Age</th>\n",
       "      <th>Outcome</th>\n",
       "    </tr>\n",
       "  </thead>\n",
       "  <tbody>\n",
       "    <tr>\n",
       "      <th>0</th>\n",
       "      <td>6.0</td>\n",
       "      <td>148.0</td>\n",
       "      <td>72.000000</td>\n",
       "      <td>35.0</td>\n",
       "      <td>155.548223</td>\n",
       "      <td>33.6</td>\n",
       "      <td>0.627</td>\n",
       "      <td>50.0</td>\n",
       "      <td>1</td>\n",
       "    </tr>\n",
       "    <tr>\n",
       "      <th>1</th>\n",
       "      <td>1.0</td>\n",
       "      <td>85.0</td>\n",
       "      <td>66.000000</td>\n",
       "      <td>29.0</td>\n",
       "      <td>155.548223</td>\n",
       "      <td>26.6</td>\n",
       "      <td>0.351</td>\n",
       "      <td>31.0</td>\n",
       "      <td>0</td>\n",
       "    </tr>\n",
       "    <tr>\n",
       "      <th>2</th>\n",
       "      <td>8.0</td>\n",
       "      <td>183.0</td>\n",
       "      <td>64.000000</td>\n",
       "      <td>32.0</td>\n",
       "      <td>155.548223</td>\n",
       "      <td>23.3</td>\n",
       "      <td>0.672</td>\n",
       "      <td>32.0</td>\n",
       "      <td>1</td>\n",
       "    </tr>\n",
       "    <tr>\n",
       "      <th>3</th>\n",
       "      <td>1.0</td>\n",
       "      <td>89.0</td>\n",
       "      <td>66.000000</td>\n",
       "      <td>23.0</td>\n",
       "      <td>94.000000</td>\n",
       "      <td>28.1</td>\n",
       "      <td>0.167</td>\n",
       "      <td>21.0</td>\n",
       "      <td>0</td>\n",
       "    </tr>\n",
       "    <tr>\n",
       "      <th>4</th>\n",
       "      <td>0.0</td>\n",
       "      <td>137.0</td>\n",
       "      <td>40.000000</td>\n",
       "      <td>35.0</td>\n",
       "      <td>168.000000</td>\n",
       "      <td>43.1</td>\n",
       "      <td>2.288</td>\n",
       "      <td>33.0</td>\n",
       "      <td>1</td>\n",
       "    </tr>\n",
       "    <tr>\n",
       "      <th>5</th>\n",
       "      <td>5.0</td>\n",
       "      <td>116.0</td>\n",
       "      <td>74.000000</td>\n",
       "      <td>32.0</td>\n",
       "      <td>155.548223</td>\n",
       "      <td>25.6</td>\n",
       "      <td>0.201</td>\n",
       "      <td>30.0</td>\n",
       "      <td>0</td>\n",
       "    </tr>\n",
       "    <tr>\n",
       "      <th>6</th>\n",
       "      <td>3.0</td>\n",
       "      <td>78.0</td>\n",
       "      <td>50.000000</td>\n",
       "      <td>32.0</td>\n",
       "      <td>88.000000</td>\n",
       "      <td>31.0</td>\n",
       "      <td>0.248</td>\n",
       "      <td>26.0</td>\n",
       "      <td>1</td>\n",
       "    </tr>\n",
       "    <tr>\n",
       "      <th>7</th>\n",
       "      <td>10.0</td>\n",
       "      <td>115.0</td>\n",
       "      <td>72.405184</td>\n",
       "      <td>32.0</td>\n",
       "      <td>155.548223</td>\n",
       "      <td>35.3</td>\n",
       "      <td>0.134</td>\n",
       "      <td>29.0</td>\n",
       "      <td>0</td>\n",
       "    </tr>\n",
       "    <tr>\n",
       "      <th>8</th>\n",
       "      <td>2.0</td>\n",
       "      <td>197.0</td>\n",
       "      <td>70.000000</td>\n",
       "      <td>45.0</td>\n",
       "      <td>543.000000</td>\n",
       "      <td>30.5</td>\n",
       "      <td>0.158</td>\n",
       "      <td>53.0</td>\n",
       "      <td>1</td>\n",
       "    </tr>\n",
       "    <tr>\n",
       "      <th>9</th>\n",
       "      <td>8.0</td>\n",
       "      <td>125.0</td>\n",
       "      <td>96.000000</td>\n",
       "      <td>32.0</td>\n",
       "      <td>155.548223</td>\n",
       "      <td>32.0</td>\n",
       "      <td>0.232</td>\n",
       "      <td>54.0</td>\n",
       "      <td>1</td>\n",
       "    </tr>\n",
       "  </tbody>\n",
       "</table>\n",
       "</div>"
      ],
      "text/plain": [
       "   Pregnancies  Glucose  BloodPressure  SkinThickness     Insulin   BMI  \\\n",
       "0          6.0    148.0      72.000000           35.0  155.548223  33.6   \n",
       "1          1.0     85.0      66.000000           29.0  155.548223  26.6   \n",
       "2          8.0    183.0      64.000000           32.0  155.548223  23.3   \n",
       "3          1.0     89.0      66.000000           23.0   94.000000  28.1   \n",
       "4          0.0    137.0      40.000000           35.0  168.000000  43.1   \n",
       "5          5.0    116.0      74.000000           32.0  155.548223  25.6   \n",
       "6          3.0     78.0      50.000000           32.0   88.000000  31.0   \n",
       "7         10.0    115.0      72.405184           32.0  155.548223  35.3   \n",
       "8          2.0    197.0      70.000000           45.0  543.000000  30.5   \n",
       "9          8.0    125.0      96.000000           32.0  155.548223  32.0   \n",
       "\n",
       "   DiabetesPedigreeFunction   Age  Outcome  \n",
       "0                     0.627  50.0        1  \n",
       "1                     0.351  31.0        0  \n",
       "2                     0.672  32.0        1  \n",
       "3                     0.167  21.0        0  \n",
       "4                     2.288  33.0        1  \n",
       "5                     0.201  30.0        0  \n",
       "6                     0.248  26.0        1  \n",
       "7                     0.134  29.0        0  \n",
       "8                     0.158  53.0        1  \n",
       "9                     0.232  54.0        1  "
      ]
     },
     "execution_count": 2,
     "metadata": {},
     "output_type": "execute_result"
    }
   ],
   "source": [
    "diabetes_data = pd.read_csv('diabetes_processed.csv')\n",
    "\n",
    "diabetes_data.head(10)"
   ]
  },
  {
   "cell_type": "code",
   "execution_count": 3,
   "metadata": {},
   "outputs": [
    {
     "name": "stdout",
     "output_type": "stream",
     "text": [
      "<class 'pandas.core.frame.DataFrame'>\n",
      "RangeIndex: 768 entries, 0 to 767\n",
      "Data columns (total 9 columns):\n",
      " #   Column                    Non-Null Count  Dtype  \n",
      "---  ------                    --------------  -----  \n",
      " 0   Pregnancies               768 non-null    float64\n",
      " 1   Glucose                   768 non-null    float64\n",
      " 2   BloodPressure             768 non-null    float64\n",
      " 3   SkinThickness             768 non-null    float64\n",
      " 4   Insulin                   768 non-null    float64\n",
      " 5   BMI                       768 non-null    float64\n",
      " 6   DiabetesPedigreeFunction  768 non-null    float64\n",
      " 7   Age                       768 non-null    float64\n",
      " 8   Outcome                   768 non-null    int64  \n",
      "dtypes: float64(8), int64(1)\n",
      "memory usage: 54.1 KB\n"
     ]
    }
   ],
   "source": [
    "diabetes_data.info()"
   ]
  },
  {
   "cell_type": "code",
   "execution_count": 4,
   "metadata": {},
   "outputs": [
    {
     "data": {
      "text/html": [
       "<div>\n",
       "<style scoped>\n",
       "    .dataframe tbody tr th:only-of-type {\n",
       "        vertical-align: middle;\n",
       "    }\n",
       "\n",
       "    .dataframe tbody tr th {\n",
       "        vertical-align: top;\n",
       "    }\n",
       "\n",
       "    .dataframe thead th {\n",
       "        text-align: right;\n",
       "    }\n",
       "</style>\n",
       "<table border=\"1\" class=\"dataframe\">\n",
       "  <thead>\n",
       "    <tr style=\"text-align: right;\">\n",
       "      <th></th>\n",
       "      <th>Pregnancies</th>\n",
       "      <th>Glucose</th>\n",
       "      <th>BloodPressure</th>\n",
       "      <th>SkinThickness</th>\n",
       "      <th>Insulin</th>\n",
       "      <th>BMI</th>\n",
       "      <th>DiabetesPedigreeFunction</th>\n",
       "      <th>Age</th>\n",
       "      <th>Outcome</th>\n",
       "    </tr>\n",
       "  </thead>\n",
       "  <tbody>\n",
       "    <tr>\n",
       "      <th>count</th>\n",
       "      <td>768.000000</td>\n",
       "      <td>768.000000</td>\n",
       "      <td>768.000000</td>\n",
       "      <td>768.000000</td>\n",
       "      <td>768.000000</td>\n",
       "      <td>768.000000</td>\n",
       "      <td>768.000000</td>\n",
       "      <td>768.000000</td>\n",
       "      <td>768.000000</td>\n",
       "    </tr>\n",
       "    <tr>\n",
       "      <th>mean</th>\n",
       "      <td>3.845052</td>\n",
       "      <td>121.656250</td>\n",
       "      <td>72.405184</td>\n",
       "      <td>29.994792</td>\n",
       "      <td>155.548223</td>\n",
       "      <td>32.450911</td>\n",
       "      <td>0.471876</td>\n",
       "      <td>33.240885</td>\n",
       "      <td>0.348958</td>\n",
       "    </tr>\n",
       "    <tr>\n",
       "      <th>std</th>\n",
       "      <td>3.369578</td>\n",
       "      <td>30.438286</td>\n",
       "      <td>12.096346</td>\n",
       "      <td>8.886506</td>\n",
       "      <td>85.021108</td>\n",
       "      <td>6.875366</td>\n",
       "      <td>0.331329</td>\n",
       "      <td>11.760232</td>\n",
       "      <td>0.476951</td>\n",
       "    </tr>\n",
       "    <tr>\n",
       "      <th>min</th>\n",
       "      <td>0.000000</td>\n",
       "      <td>44.000000</td>\n",
       "      <td>24.000000</td>\n",
       "      <td>7.000000</td>\n",
       "      <td>14.000000</td>\n",
       "      <td>18.200000</td>\n",
       "      <td>0.078000</td>\n",
       "      <td>21.000000</td>\n",
       "      <td>0.000000</td>\n",
       "    </tr>\n",
       "    <tr>\n",
       "      <th>25%</th>\n",
       "      <td>1.000000</td>\n",
       "      <td>99.750000</td>\n",
       "      <td>64.000000</td>\n",
       "      <td>25.000000</td>\n",
       "      <td>121.500000</td>\n",
       "      <td>27.500000</td>\n",
       "      <td>0.243750</td>\n",
       "      <td>24.000000</td>\n",
       "      <td>0.000000</td>\n",
       "    </tr>\n",
       "    <tr>\n",
       "      <th>50%</th>\n",
       "      <td>3.000000</td>\n",
       "      <td>117.000000</td>\n",
       "      <td>72.202592</td>\n",
       "      <td>32.000000</td>\n",
       "      <td>155.548223</td>\n",
       "      <td>32.000000</td>\n",
       "      <td>0.372500</td>\n",
       "      <td>29.000000</td>\n",
       "      <td>0.000000</td>\n",
       "    </tr>\n",
       "    <tr>\n",
       "      <th>75%</th>\n",
       "      <td>6.000000</td>\n",
       "      <td>140.250000</td>\n",
       "      <td>80.000000</td>\n",
       "      <td>32.000000</td>\n",
       "      <td>155.548223</td>\n",
       "      <td>36.600000</td>\n",
       "      <td>0.626250</td>\n",
       "      <td>41.000000</td>\n",
       "      <td>1.000000</td>\n",
       "    </tr>\n",
       "    <tr>\n",
       "      <th>max</th>\n",
       "      <td>17.000000</td>\n",
       "      <td>199.000000</td>\n",
       "      <td>122.000000</td>\n",
       "      <td>99.000000</td>\n",
       "      <td>846.000000</td>\n",
       "      <td>67.100000</td>\n",
       "      <td>2.420000</td>\n",
       "      <td>81.000000</td>\n",
       "      <td>1.000000</td>\n",
       "    </tr>\n",
       "  </tbody>\n",
       "</table>\n",
       "</div>"
      ],
      "text/plain": [
       "       Pregnancies     Glucose  BloodPressure  SkinThickness     Insulin  \\\n",
       "count   768.000000  768.000000     768.000000     768.000000  768.000000   \n",
       "mean      3.845052  121.656250      72.405184      29.994792  155.548223   \n",
       "std       3.369578   30.438286      12.096346       8.886506   85.021108   \n",
       "min       0.000000   44.000000      24.000000       7.000000   14.000000   \n",
       "25%       1.000000   99.750000      64.000000      25.000000  121.500000   \n",
       "50%       3.000000  117.000000      72.202592      32.000000  155.548223   \n",
       "75%       6.000000  140.250000      80.000000      32.000000  155.548223   \n",
       "max      17.000000  199.000000     122.000000      99.000000  846.000000   \n",
       "\n",
       "              BMI  DiabetesPedigreeFunction         Age     Outcome  \n",
       "count  768.000000                768.000000  768.000000  768.000000  \n",
       "mean    32.450911                  0.471876   33.240885    0.348958  \n",
       "std      6.875366                  0.331329   11.760232    0.476951  \n",
       "min     18.200000                  0.078000   21.000000    0.000000  \n",
       "25%     27.500000                  0.243750   24.000000    0.000000  \n",
       "50%     32.000000                  0.372500   29.000000    0.000000  \n",
       "75%     36.600000                  0.626250   41.000000    1.000000  \n",
       "max     67.100000                  2.420000   81.000000    1.000000  "
      ]
     },
     "execution_count": 4,
     "metadata": {},
     "output_type": "execute_result"
    }
   ],
   "source": [
    "diabetes_data.describe()"
   ]
  },
  {
   "cell_type": "code",
   "execution_count": 5,
   "metadata": {},
   "outputs": [
    {
     "data": {
      "text/plain": [
       "Index(['Pregnancies', 'Glucose', 'BloodPressure', 'SkinThickness', 'Insulin',\n",
       "       'BMI', 'DiabetesPedigreeFunction', 'Age', 'Outcome'],\n",
       "      dtype='object')"
      ]
     },
     "execution_count": 5,
     "metadata": {},
     "output_type": "execute_result"
    }
   ],
   "source": [
    "diabetes_data.columns"
   ]
  },
  {
   "cell_type": "markdown",
   "metadata": {},
   "source": [
    "### Scaling our dataset, except for the target column(outcome). Most machine Learning classifiers prefer this."
   ]
  },
  {
   "cell_type": "code",
   "execution_count": 6,
   "metadata": {},
   "outputs": [
    {
     "data": {
      "text/plain": [
       "['Pregnancies',\n",
       " 'Glucose',\n",
       " 'BloodPressure',\n",
       " 'SkinThickness',\n",
       " 'Insulin',\n",
       " 'BMI',\n",
       " 'DiabetesPedigreeFunction',\n",
       " 'Age']"
      ]
     },
     "execution_count": 6,
     "metadata": {},
     "output_type": "execute_result"
    }
   ],
   "source": [
    "cols_to_norm=list(diabetes_data.columns[:-1])\n",
    "cols_to_norm"
   ]
  },
  {
   "cell_type": "code",
   "execution_count": 7,
   "metadata": {},
   "outputs": [],
   "source": [
    "from sklearn.preprocessing import StandardScaler\n",
    "diabetes_data[cols_to_norm]=StandardScaler().fit_transform(diabetes_data[cols_to_norm])"
   ]
  },
  {
   "cell_type": "code",
   "execution_count": 8,
   "metadata": {},
   "outputs": [
    {
     "data": {
      "text/html": [
       "<div>\n",
       "<style scoped>\n",
       "    .dataframe tbody tr th:only-of-type {\n",
       "        vertical-align: middle;\n",
       "    }\n",
       "\n",
       "    .dataframe tbody tr th {\n",
       "        vertical-align: top;\n",
       "    }\n",
       "\n",
       "    .dataframe thead th {\n",
       "        text-align: right;\n",
       "    }\n",
       "</style>\n",
       "<table border=\"1\" class=\"dataframe\">\n",
       "  <thead>\n",
       "    <tr style=\"text-align: right;\">\n",
       "      <th></th>\n",
       "      <th>Pregnancies</th>\n",
       "      <th>Glucose</th>\n",
       "      <th>BloodPressure</th>\n",
       "      <th>SkinThickness</th>\n",
       "      <th>Insulin</th>\n",
       "      <th>BMI</th>\n",
       "      <th>DiabetesPedigreeFunction</th>\n",
       "      <th>Age</th>\n",
       "      <th>Outcome</th>\n",
       "    </tr>\n",
       "  </thead>\n",
       "  <tbody>\n",
       "    <tr>\n",
       "      <th>0</th>\n",
       "      <td>0.639947</td>\n",
       "      <td>0.866045</td>\n",
       "      <td>-0.033518</td>\n",
       "      <td>0.563604</td>\n",
       "      <td>-3.345079e-16</td>\n",
       "      <td>0.167240</td>\n",
       "      <td>0.468492</td>\n",
       "      <td>1.425995</td>\n",
       "      <td>1</td>\n",
       "    </tr>\n",
       "    <tr>\n",
       "      <th>1</th>\n",
       "      <td>-0.844885</td>\n",
       "      <td>-1.205066</td>\n",
       "      <td>-0.529859</td>\n",
       "      <td>-0.112017</td>\n",
       "      <td>-3.345079e-16</td>\n",
       "      <td>-0.851551</td>\n",
       "      <td>-0.365061</td>\n",
       "      <td>-0.190672</td>\n",
       "      <td>0</td>\n",
       "    </tr>\n",
       "    <tr>\n",
       "      <th>2</th>\n",
       "      <td>1.233880</td>\n",
       "      <td>2.016662</td>\n",
       "      <td>-0.695306</td>\n",
       "      <td>0.225793</td>\n",
       "      <td>-3.345079e-16</td>\n",
       "      <td>-1.331838</td>\n",
       "      <td>0.604397</td>\n",
       "      <td>-0.105584</td>\n",
       "      <td>1</td>\n",
       "    </tr>\n",
       "    <tr>\n",
       "      <th>3</th>\n",
       "      <td>-0.844885</td>\n",
       "      <td>-1.073567</td>\n",
       "      <td>-0.529859</td>\n",
       "      <td>-0.787638</td>\n",
       "      <td>-7.243887e-01</td>\n",
       "      <td>-0.633239</td>\n",
       "      <td>-0.920763</td>\n",
       "      <td>-1.041549</td>\n",
       "      <td>0</td>\n",
       "    </tr>\n",
       "    <tr>\n",
       "      <th>4</th>\n",
       "      <td>-1.141852</td>\n",
       "      <td>0.504422</td>\n",
       "      <td>-2.680669</td>\n",
       "      <td>0.563604</td>\n",
       "      <td>1.465506e-01</td>\n",
       "      <td>1.549885</td>\n",
       "      <td>5.484909</td>\n",
       "      <td>-0.020496</td>\n",
       "      <td>1</td>\n",
       "    </tr>\n",
       "    <tr>\n",
       "      <th>...</th>\n",
       "      <td>...</td>\n",
       "      <td>...</td>\n",
       "      <td>...</td>\n",
       "      <td>...</td>\n",
       "      <td>...</td>\n",
       "      <td>...</td>\n",
       "      <td>...</td>\n",
       "      <td>...</td>\n",
       "      <td>...</td>\n",
       "    </tr>\n",
       "    <tr>\n",
       "      <th>763</th>\n",
       "      <td>1.827813</td>\n",
       "      <td>-0.679069</td>\n",
       "      <td>0.297376</td>\n",
       "      <td>2.027450</td>\n",
       "      <td>2.877840e-01</td>\n",
       "      <td>0.065361</td>\n",
       "      <td>-0.908682</td>\n",
       "      <td>2.532136</td>\n",
       "      <td>0</td>\n",
       "    </tr>\n",
       "    <tr>\n",
       "      <th>764</th>\n",
       "      <td>-0.547919</td>\n",
       "      <td>0.011301</td>\n",
       "      <td>-0.198965</td>\n",
       "      <td>-0.337224</td>\n",
       "      <td>-3.345079e-16</td>\n",
       "      <td>0.632973</td>\n",
       "      <td>-0.398282</td>\n",
       "      <td>-0.531023</td>\n",
       "      <td>0</td>\n",
       "    </tr>\n",
       "    <tr>\n",
       "      <th>765</th>\n",
       "      <td>0.342981</td>\n",
       "      <td>-0.021574</td>\n",
       "      <td>-0.033518</td>\n",
       "      <td>-0.787638</td>\n",
       "      <td>-5.125386e-01</td>\n",
       "      <td>-0.909768</td>\n",
       "      <td>-0.685193</td>\n",
       "      <td>-0.275760</td>\n",
       "      <td>0</td>\n",
       "    </tr>\n",
       "    <tr>\n",
       "      <th>766</th>\n",
       "      <td>-0.844885</td>\n",
       "      <td>0.142800</td>\n",
       "      <td>-1.026200</td>\n",
       "      <td>0.225793</td>\n",
       "      <td>-3.345079e-16</td>\n",
       "      <td>-0.342155</td>\n",
       "      <td>-0.371101</td>\n",
       "      <td>1.170732</td>\n",
       "      <td>1</td>\n",
       "    </tr>\n",
       "    <tr>\n",
       "      <th>767</th>\n",
       "      <td>-0.844885</td>\n",
       "      <td>-0.942068</td>\n",
       "      <td>-0.198965</td>\n",
       "      <td>0.113190</td>\n",
       "      <td>-3.345079e-16</td>\n",
       "      <td>-0.298493</td>\n",
       "      <td>-0.473785</td>\n",
       "      <td>-0.871374</td>\n",
       "      <td>0</td>\n",
       "    </tr>\n",
       "  </tbody>\n",
       "</table>\n",
       "<p>768 rows × 9 columns</p>\n",
       "</div>"
      ],
      "text/plain": [
       "     Pregnancies   Glucose  BloodPressure  SkinThickness       Insulin  \\\n",
       "0       0.639947  0.866045      -0.033518       0.563604 -3.345079e-16   \n",
       "1      -0.844885 -1.205066      -0.529859      -0.112017 -3.345079e-16   \n",
       "2       1.233880  2.016662      -0.695306       0.225793 -3.345079e-16   \n",
       "3      -0.844885 -1.073567      -0.529859      -0.787638 -7.243887e-01   \n",
       "4      -1.141852  0.504422      -2.680669       0.563604  1.465506e-01   \n",
       "..           ...       ...            ...            ...           ...   \n",
       "763     1.827813 -0.679069       0.297376       2.027450  2.877840e-01   \n",
       "764    -0.547919  0.011301      -0.198965      -0.337224 -3.345079e-16   \n",
       "765     0.342981 -0.021574      -0.033518      -0.787638 -5.125386e-01   \n",
       "766    -0.844885  0.142800      -1.026200       0.225793 -3.345079e-16   \n",
       "767    -0.844885 -0.942068      -0.198965       0.113190 -3.345079e-16   \n",
       "\n",
       "          BMI  DiabetesPedigreeFunction       Age  Outcome  \n",
       "0    0.167240                  0.468492  1.425995        1  \n",
       "1   -0.851551                 -0.365061 -0.190672        0  \n",
       "2   -1.331838                  0.604397 -0.105584        1  \n",
       "3   -0.633239                 -0.920763 -1.041549        0  \n",
       "4    1.549885                  5.484909 -0.020496        1  \n",
       "..        ...                       ...       ...      ...  \n",
       "763  0.065361                 -0.908682  2.532136        0  \n",
       "764  0.632973                 -0.398282 -0.531023        0  \n",
       "765 -0.909768                 -0.685193 -0.275760        0  \n",
       "766 -0.342155                 -0.371101  1.170732        1  \n",
       "767 -0.298493                 -0.473785 -0.871374        0  \n",
       "\n",
       "[768 rows x 9 columns]"
      ]
     },
     "execution_count": 8,
     "metadata": {},
     "output_type": "execute_result"
    }
   ],
   "source": [
    "#View the final scaled Data\n",
    "diabetes_data"
   ]
  },
  {
   "cell_type": "markdown",
   "metadata": {},
   "source": [
    "## Implementing Multiple Machine Learning Algorithms on the Dataset"
   ]
  },
  {
   "cell_type": "code",
   "execution_count": 9,
   "metadata": {},
   "outputs": [],
   "source": [
    "from sklearn.model_selection import train_test_split\n",
    "from sklearn.linear_model import LogisticRegression\n",
    "from sklearn.naive_bayes import GaussianNB\n",
    "from sklearn.svm import SVC\n",
    "svclassifier = SVC(kernel='linear',probability=True)\n",
    "from sklearn.tree import DecisionTreeClassifier\n",
    "from sklearn.ensemble import RandomForestClassifier\n",
    "from sklearn.ensemble import GradientBoostingClassifier\n",
    "from sklearn.neighbors import KNeighborsClassifier\n",
    "from sklearn.ensemble import AdaBoostClassifier\n",
    "from sklearn.metrics import accuracy_score\n",
    "from sklearn.metrics import roc_auc_score\n",
    "from sklearn.metrics import roc_curve\n",
    "from sklearn.metrics import confusion_matrix\n",
    "from sklearn.model_selection import cross_val_score\n",
    "from sklearn.model_selection import KFold\n",
    "from xgboost import XGBClassifier"
   ]
  },
  {
   "cell_type": "code",
   "execution_count": 10,
   "metadata": {},
   "outputs": [],
   "source": [
    "#x are alll our features (after droping our target 'Outcome')\n",
    "# y is the target we are trying to predict (that is Outcome)\n",
    "x= diabetes_data.drop(columns=['Outcome'])\n",
    "y=diabetes_data['Outcome']"
   ]
  },
  {
   "cell_type": "code",
   "execution_count": 18,
   "metadata": {},
   "outputs": [],
   "source": [
    "# Split our datast into two:\n",
    "\n",
    "#1. Training data to train all our classifiers on real data and \n",
    "#2. Test data to evaluate their performance on unseen data\n",
    "\n",
    "x_train,x_test,y_train,y_test =train_test_split(x,y,test_size=0.2,random_state=4)\n",
    "\n",
    "#Test size is 0.2 means we would be training each of our classifiers with 80% of\n",
    "# and validating them with the remaining 20%\n",
    "\n",
    "#x_train - 80% fraction of our features for training our classifiers algorithms\n",
    "#y_train - 80% fraction of the matching target for traininig our classifiers algorithms\n",
    "\n",
    "#x_test - 20% hold-out fraction of our features for testing the performance of\n",
    "#from the training phase above by producinn - \"y_pred\".\n",
    "\n",
    "#y_test - 20% hold_out fraction of our matching target. This is used in comparison\n",
    "\n",
    "#Random State guarantees that same sequence of random numbers are generated for"
   ]
  },
  {
   "cell_type": "code",
   "execution_count": 19,
   "metadata": {},
   "outputs": [
    {
     "data": {
      "text/plain": [
       "((614, 8), (154, 8))"
      ]
     },
     "execution_count": 19,
     "metadata": {},
     "output_type": "execute_result"
    }
   ],
   "source": [
    "x_train.shape, x_test.shape"
   ]
  },
  {
   "cell_type": "code",
   "execution_count": 20,
   "metadata": {},
   "outputs": [
    {
     "data": {
      "text/plain": [
       "((614,), (154,))"
      ]
     },
     "execution_count": 20,
     "metadata": {},
     "output_type": "execute_result"
    }
   ],
   "source": [
    "y_train.shape, y_test.shape"
   ]
  },
  {
   "cell_type": "code",
   "execution_count": 21,
   "metadata": {},
   "outputs": [],
   "source": [
    "#Define the Machine Learning Classifiers (all coming from Sci-kit Learn Library except xgboost (though has a scikit-learn wrapper))\n",
    "lr = LogisticRegression()\n",
    "gs = GaussianNB()\n",
    "sv =SVC(kernel='rbf', random_state =0)\n",
    "gb =GradientBoostingClassifier(learning_rate=0.1,n_estimators=100)\n",
    "kn=KNeighborsClassifier(n_neighbors=18)\n",
    "ad=AdaBoostClassifier(n_estimators=100, random_state=0)\n",
    "dt=DecisionTreeClassifier()\n",
    "rf=RandomForestClassifier(n_estimators=70)\n",
    "xg = XGBClassifier()\n",
    "\n",
    "# 'gb','rf' and 'ad' are the ensemble algorithms in the above representation"
   ]
  },
  {
   "cell_type": "code",
   "execution_count": 22,
   "metadata": {},
   "outputs": [
    {
     "name": "stderr",
     "output_type": "stream",
     "text": [
      "C:\\Users\\SugarIT\\Anaconda3\\lib\\site-packages\\sklearn\\linear_model\\logistic.py:432: FutureWarning: Default solver will be changed to 'lbfgs' in 0.22. Specify a solver to silence this warning.\n",
      "  FutureWarning)\n"
     ]
    }
   ],
   "source": [
    "#Fit function trains all our machine learning classifiers on 80% of our data.\n",
    "lr.fit(x_train, y_train);\n",
    "gs.fit(x_train, y_train);\n",
    "svclassifier.fit(x_train, y_train);\n",
    "gb.fit(x_train, y_train);\n",
    "kn.fit(x_train, y_train);\n",
    "ad.fit(x_train, y_train);\n",
    "dt.fit(x_train, y_train);\n",
    "rf.fit(x_train, y_train);\n",
    "xg.fit(x_train, y_train);"
   ]
  },
  {
   "cell_type": "code",
   "execution_count": 23,
   "metadata": {},
   "outputs": [
    {
     "name": "stdout",
     "output_type": "stream",
     "text": [
      "Training_score:  0.7654723127035831\n",
      "Training_score:  0.752442996742671\n",
      "Training_score:  0.7687296416938111\n",
      "Training_score:  0.9332247557003257\n",
      "Training_score:  0.7882736156351792\n",
      "Training_score:  0.8469055374592834\n",
      "Training_score:  1.0\n",
      "Training_score:  1.0\n",
      "Training_score:  1.0\n"
     ]
    }
   ],
   "source": [
    "#Get individual classifiers training scores\n",
    "print('Training_score: ',lr.score(x_train,y_train))\n",
    "print('Training_score: ',gs.score(x_train,y_train))\n",
    "print('Training_score: ',svclassifier.score(x_train,y_train))\n",
    "print('Training_score: ',gb.score(x_train,y_train))\n",
    "print('Training_score: ',kn.score(x_train,y_train))\n",
    "print('Training_score: ',ad.score(x_train,y_train))\n",
    "print('Training_score: ',dt.score(x_train,y_train))\n",
    "print('Training_score: ',rf.score(x_train,y_train))\n",
    "print('Training_score: ',xg.score(x_train,y_train))\n",
    "\n",
    "#The Decision tree, random forest and xgboost is over-fitting our data. The best training\n",
    "\n",
    "#The Gradient Boosting Classifier is an ensemble ML that works by combining many\n",
    "#to create a strong predictive model (by aggregating the output from many models)"
   ]
  },
  {
   "cell_type": "code",
   "execution_count": 24,
   "metadata": {},
   "outputs": [
    {
     "name": "stdout",
     "output_type": "stream",
     "text": [
      "Accuracy of the GBM on training set: 0.93\n"
     ]
    },
    {
     "data": {
      "image/png": "[encoded data removed]",
      "text/plain": [
       "<Figure size 432x288 with 1 Axes>"
      ]
     },
     "metadata": {
      "needs_background": "light"
     },
     "output_type": "display_data"
    }
   ],
   "source": [
    "# Get important features in the training set using our best model - Gradient Boosting Classifier\n",
    "predictors =list(x_train)\n",
    "feat_imp=pd.Series(gb.feature_importances_,predictors).sort_values(ascending=False)\n",
    "feat_imp.plot(kind='bar',title='Importance of Features')\n",
    "plt.ylabel('Feature Importance Score')\n",
    "\n",
    "#Reprint accuracy of Gradient Boosting in the training phase.\n",
    "print('Accuracy of the GBM on training set: {:.2f}'.format(gb.score(x_train,y_train)))\n",
    "\n",
    "#Glucose, BMI and Age are the only important features,\n",
    "#but Boosting help us to combine the other weak learners into a single strong learners"
   ]
  },
  {
   "cell_type": "code",
   "execution_count": 32,
   "metadata": {},
   "outputs": [],
   "source": [
    "# Predict targets for unseen dataset (x_test) by using all our classifiers\n",
    "y_pred1 = lr.predict(x_test)\n",
    "y_pred2 = gs.predict(x_test)\n",
    "y_pred3 = svclassifier.predict(x_test)\n",
    "y_pred4 = gb.predict(x_test)\n",
    "y_pred5 = kn.predict(x_test)\n",
    "y_pred6 = ad.predict(x_test)\n",
    "y_pred7 = dt.predict(x_test)\n",
    "y_pred8 = rf.predict(x_test)\n",
    "y_pred9 = xg.predict(x_test)"
   ]
  },
  {
   "cell_type": "code",
   "execution_count": 33,
   "metadata": {},
   "outputs": [
    {
     "name": "stdout",
     "output_type": "stream",
     "text": [
      "Testing_Score:  0.7922077922077922\n",
      "Testing_Score:  0.7662337662337663\n",
      "Testing_Score:  0.7987012987012987\n",
      "Testing_Score:  0.7857142857142857\n",
      "Testing_Score:  0.7922077922077922\n",
      "Testing_Score:  0.7727272727272727\n",
      "Testing_Score:  0.7012987012987013\n",
      "Testing_Score:  0.7532467532467533\n",
      "Testing_Score:  0.7402597402597403\n"
     ]
    }
   ],
   "source": [
    "# Get accuracy score which show the predictive power of each classifier at class\n",
    "print('Testing_Score: ',accuracy_score(y_test,y_pred1))\n",
    "print('Testing_Score: ',accuracy_score(y_test,y_pred2))\n",
    "print('Testing_Score: ',accuracy_score(y_test,y_pred3))\n",
    "print('Testing_Score: ',accuracy_score(y_test,y_pred4))\n",
    "print('Testing_Score: ',accuracy_score(y_test,y_pred5))\n",
    "print('Testing_Score: ',accuracy_score(y_test,y_pred6))\n",
    "print('Testing_Score: ',accuracy_score(y_test,y_pred7))\n",
    "print('Testing_Score: ',accuracy_score(y_test,y_pred8))\n",
    "print('Testing_Score: ',accuracy_score(y_test,y_pred9))\n",
    "\n",
    "#Gradient Boosting Classifier end up"
   ]
  },
  {
   "cell_type": "markdown",
   "metadata": {},
   "source": [
    "From the above testing scores, we can see that Logistic Regression and Support Vector Classifier performs better than the Gradient Boosting Classifier"
   ]
  },
  {
   "cell_type": "code",
   "execution_count": 27,
   "metadata": {},
   "outputs": [
    {
     "data": {
      "text/html": [
       "<div>\n",
       "<style scoped>\n",
       "    .dataframe tbody tr th:only-of-type {\n",
       "        vertical-align: middle;\n",
       "    }\n",
       "\n",
       "    .dataframe tbody tr th {\n",
       "        vertical-align: top;\n",
       "    }\n",
       "\n",
       "    .dataframe thead th {\n",
       "        text-align: right;\n",
       "    }\n",
       "</style>\n",
       "<table border=\"1\" class=\"dataframe\">\n",
       "  <thead>\n",
       "    <tr style=\"text-align: right;\">\n",
       "      <th></th>\n",
       "      <th>y_test</th>\n",
       "      <th>y_pred</th>\n",
       "    </tr>\n",
       "  </thead>\n",
       "  <tbody>\n",
       "    <tr>\n",
       "      <th>390</th>\n",
       "      <td>0</td>\n",
       "      <td>0</td>\n",
       "    </tr>\n",
       "    <tr>\n",
       "      <th>146</th>\n",
       "      <td>0</td>\n",
       "      <td>0</td>\n",
       "    </tr>\n",
       "    <tr>\n",
       "      <th>136</th>\n",
       "      <td>0</td>\n",
       "      <td>0</td>\n",
       "    </tr>\n",
       "    <tr>\n",
       "      <th>420</th>\n",
       "      <td>0</td>\n",
       "      <td>1</td>\n",
       "    </tr>\n",
       "    <tr>\n",
       "      <th>328</th>\n",
       "      <td>1</td>\n",
       "      <td>0</td>\n",
       "    </tr>\n",
       "    <tr>\n",
       "      <th>...</th>\n",
       "      <td>...</td>\n",
       "      <td>...</td>\n",
       "    </tr>\n",
       "    <tr>\n",
       "      <th>374</th>\n",
       "      <td>0</td>\n",
       "      <td>0</td>\n",
       "    </tr>\n",
       "    <tr>\n",
       "      <th>288</th>\n",
       "      <td>0</td>\n",
       "      <td>0</td>\n",
       "    </tr>\n",
       "    <tr>\n",
       "      <th>282</th>\n",
       "      <td>0</td>\n",
       "      <td>0</td>\n",
       "    </tr>\n",
       "    <tr>\n",
       "      <th>754</th>\n",
       "      <td>1</td>\n",
       "      <td>1</td>\n",
       "    </tr>\n",
       "    <tr>\n",
       "      <th>363</th>\n",
       "      <td>1</td>\n",
       "      <td>0</td>\n",
       "    </tr>\n",
       "  </tbody>\n",
       "</table>\n",
       "<p>154 rows × 2 columns</p>\n",
       "</div>"
      ],
      "text/plain": [
       "     y_test  y_pred\n",
       "390       0       0\n",
       "146       0       0\n",
       "136       0       0\n",
       "420       0       1\n",
       "328       1       0\n",
       "..      ...     ...\n",
       "374       0       0\n",
       "288       0       0\n",
       "282       0       0\n",
       "754       1       1\n",
       "363       1       0\n",
       "\n",
       "[154 rows x 2 columns]"
      ]
     },
     "execution_count": 27,
     "metadata": {},
     "output_type": "execute_result"
    }
   ],
   "source": [
    "#Extract the predictions into a dataframe\n",
    "gb_results =pd.DataFrame({'y_test':y_test,'y_pred':y_pred4})\n",
    "\n",
    "gb_results"
   ]
  },
  {
   "cell_type": "code",
   "execution_count": 28,
   "metadata": {},
   "outputs": [
    {
     "name": "stdout",
     "output_type": "stream",
     "text": [
      "[[86 16]\n",
      " [17 35]]\n"
     ]
    }
   ],
   "source": [
    "#Get the confusion matrix\n",
    "cf_matrix = confusion_matrix(y_test,y_pred4)\n",
    "print(cf_matrix)"
   ]
  },
  {
   "cell_type": "markdown",
   "metadata": {},
   "source": [
    "#### k-fold Cross Validation using the Gradient Boosting Classifier\n",
    "\n",
    "K- fold Cross Validation(CV) divide the data into folds and ensure that each fold is used as a testing set at some point. (This ensures all folds have equal chance of featuring as test st and train set at some point)."
   ]
  },
  {
   "cell_type": "code",
   "execution_count": 29,
   "metadata": {},
   "outputs": [
    {
     "name": "stdout",
     "output_type": "stream",
     "text": [
      "Accuracy: 76.95% (5.83%)\n"
     ]
    }
   ],
   "source": [
    "# Evaluate the Gradient Boosting Classifier with k-fold Cross Validation\n",
    "kfold = KFold(n_splits=10,random_state=None)\n",
    "results=cross_val_score(gb,x,y,cv=kfold)\n",
    "print('Accuracy: %.2f%% (%.2f%%)'%(results.mean()*100,results.std()*100))"
   ]
  },
  {
   "cell_type": "code",
   "execution_count": 30,
   "metadata": {},
   "outputs": [
    {
     "data": {
      "text/plain": [
       "<matplotlib.axes._subplots.AxesSubplot at 0x4bec370>"
      ]
     },
     "execution_count": 30,
     "metadata": {},
     "output_type": "execute_result"
    },
    {
     "data": {
      "image/png": "[encoded data removed]",
      "text/plain": [
       "<Figure size 432x288 with 2 Axes>"
      ]
     },
     "metadata": {
      "needs_background": "light"
     },
     "output_type": "display_data"
    }
   ],
   "source": [
    "#Use Seaborn to get a Graphical Confusion Martrix for our best Machine Learning classifier\n",
    "\n",
    "group_names =['True Neg','False Pos','False Neg','True Pos']\n",
    "\n",
    "group_counts = ['{0:0.0f}'.format(value) for value in cf_matrix.flatten()]\n",
    "\n",
    "group_percentages =['{0:.2%}'.format(value) for value in cf_matrix.flatten()/np.sum(cf_matrix)]\n",
    "\n",
    "labels = [f'{v1}\\n{v2}\\n{v3}' for v1, v2, v3 in zip(group_names,group_counts,group_percentages)]\n",
    "\n",
    "labels = np.asarray(labels).reshape(2,2)\n",
    "sns.heatmap(cf_matrix, annot=labels, fmt='', cmap='Blues')"
   ]
  },
  {
   "cell_type": "code",
   "execution_count": 37,
   "metadata": {},
   "outputs": [
    {
     "data": {
      "image/png": "[encoded data removed]",
      "text/plain": [
       "<Figure size 720x360 with 1 Axes>"
      ]
     },
     "metadata": {
      "needs_background": "light"
     },
     "output_type": "display_data"
    }
   ],
   "source": [
    "#Calculate values for ROC AUC plot\n",
    "gb_roc_auc =roc_auc_score(y_test,gb.predict(x_test))\n",
    "fprgb, tprgb, thresholdsgb =roc_curve(y_test, gb.predict_proba(x_test)[:,1])\n",
    "\n",
    "lr_roc_auc =roc_auc_score(y_test,lr.predict(x_test))\n",
    "fprlr, tprlr, thresholdlsr =roc_curve(y_test, lr.predict_proba(x_test)[:,1])\n",
    "\n",
    "gs_roc_auc =roc_auc_score(y_test,gs.predict(x_test))\n",
    "fprgs, tprgs, thresholdlgs =roc_curve(y_test, gs.predict_proba(x_test)[:,1])\n",
    "\n",
    "ad_roc_auc =roc_auc_score(y_test,ad.predict(x_test))\n",
    "fprad, tprad, thresholdlad =roc_curve(y_test, ad.predict_proba(x_test)[:,1])\n",
    "\n",
    "kn_roc_auc =roc_auc_score(y_test,lr.predict(x_test))\n",
    "fprkn, tprkn, thresholdlkn =roc_curve(y_test, kn.predict_proba(x_test)[:,1])\n",
    "\n",
    "dt_roc_auc =roc_auc_score(y_test,dt.predict(x_test))\n",
    "fprdt, tprdt, thresholdldt =roc_curve(y_test, dt.predict_proba(x_test)[:,1])\n",
    "\n",
    "rf_roc_auc =roc_auc_score(y_test,rf.predict(x_test))\n",
    "fprrf, tprrf, thresholdsrf =roc_curve(y_test, rf.predict_proba(x_test)[:,1])\n",
    "\n",
    "svclassifier_roc_auc =roc_auc_score(y_test,svclassifier.predict(x_test))\n",
    "fprsv, tprsv, thresholdlssv =roc_curve(y_test, svclassifier.predict_proba(x_test)[:,1])\n",
    "\n",
    "xg_roc_auc =roc_auc_score(y_test,rf.predict(x_test))\n",
    "fprxg, tprxg, thresholdsxg =roc_curve(y_test, xg.predict_proba(x_test)[:,1])\n",
    "\n",
    "\n",
    "plt.figure(figsize=(10,5))\n",
    "plt.plot(fprgb, tprgb, label='Gradient Boosting Classifier (area =%0.2f)' % gb_roc_auc)\n",
    "plt.plot(fprlr, tprlr, label='Logistics Regression Classifier (area =%0.2f)' % lr_roc_auc)\n",
    "plt.plot(fprgs, tprgs, label='Gaussian Naive Bayes Model (area =%0.2f)' % gs_roc_auc)\n",
    "plt.plot(fprsv, tprsv, label='Support Vector Classifier Model (area =%0.2f)' % svclassifier_roc_auc)\n",
    "plt.plot(fprad, tprad, label='Adaboost Model (area =%0.2f)' % ad_roc_auc)\n",
    "plt.plot(fprkn, tprkn, label='K-Nearest Neighbor Model (area =%0.2f)' % kn_roc_auc)\n",
    "plt.plot(fprdt, tprdt, label='Decision Tree Classifier (area =%0.2f)' % dt_roc_auc)\n",
    "plt.plot(fprrf, tprrf, label='Random Forest Classifier (area =%0.2f)' % rf_roc_auc)\n",
    "plt.plot(fprxg, tprxg, label='Extreme Gradient Boosting Classifier (area =%0.2f)' % xg_roc_auc)\n",
    "\n",
    "\n",
    "plt.plot([0,1],[0,1],'r--')\n",
    "plt.xlim([0.0,1.0])\n",
    "plt.ylim([0.0,1.0])\n",
    "plt.xlabel('False Positive Rate')\n",
    "plt.ylabel('True Positive Rate')\n",
    "plt.ylabel('Receiver Operating Characteristic')\n",
    "plt.legend(loc='lower right')\n",
    "plt.savefig('Log_ROC')\n",
    "plt.show()"
   ]
  },
  {
   "cell_type": "markdown",
   "metadata": {},
   "source": [
    "ROC AUC: It tells how much a model is capable of separating classes.\n",
    "The Higher the AUC, the better"
   ]
  },
  {
   "cell_type": "code",
   "execution_count": null,
   "metadata": {},
   "outputs": [],
   "source": []
  }
 ],
 "metadata": {
  "kernelspec": {
   "display_name": "Python 3",
   "language": "python",
   "name": "python3"
  },
  "language_info": {
   "codemirror_mode": {
    "name": "ipython",
    "version": 3
   },
   "file_extension": ".py",
   "mimetype": "text/x-python",
   "name": "python",
   "nbconvert_exporter": "python",
   "pygments_lexer": "ipython3",
   "version": "3.7.4"
  }
 },
 "nbformat": 4,
 "nbformat_minor": 4
}
